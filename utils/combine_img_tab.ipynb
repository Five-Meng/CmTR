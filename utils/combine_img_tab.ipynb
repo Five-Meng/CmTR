{
 "cells": [
  {
   "cell_type": "markdown",
   "metadata": {
    "pycharm": {
     "name": "#%% md\n"
    }
   },
   "source": [
    "存储对应的图像和表格数据，加快读取速度"
   ]
  },
  {
   "cell_type": "code",
   "execution_count": 1,
   "metadata": {
    "pycharm": {
     "name": "#%%\n"
    }
   },
   "outputs": [
    {
     "name": "stderr",
     "output_type": "stream",
     "text": [
      "/home/admin1/.conda/envs/torch12gpu/lib/python3.8/site-packages/tqdm/auto.py:21: TqdmWarning: IProgress not found. Please update jupyter and ipywidgets. See https://ipywidgets.readthedocs.io/en/stable/user_install.html\n",
      "  from .autonotebook import tqdm as notebook_tqdm\n"
     ]
    }
   ],
   "source": [
    "import os\n",
    "import torch\n",
    "from PIL import Image\n",
    "import pandas as pd\n",
    "import numpy as np\n",
    "from torchvision import transforms"
   ]
  },
  {
   "cell_type": "markdown",
   "metadata": {
    "pycharm": {
     "name": "#%% md\n"
    }
   },
   "source": [
    "blood"
   ]
  },
  {
   "cell_type": "code",
   "execution_count": 2,
   "metadata": {
    "pycharm": {
     "name": "#%%\n"
    }
   },
   "outputs": [],
   "source": [
    "transform_img = transforms.Compose([\n",
    "    transforms.Resize([240, 240]),\n",
    "    transforms.ToTensor(),\n",
    "])"
   ]
  },
  {
   "cell_type": "code",
   "execution_count": 3,
   "metadata": {
    "pycharm": {
     "name": "#%%\n"
    }
   },
   "outputs": [],
   "source": [
    "def save_images(mode, opt_dict, save_dir):\n",
    "    img_data = {}\n",
    "    base_path = opt_dict['dataset_config']['dataset']\n",
    "    img_dir = os.path.join(base_path, '建模组' if mode == 'train' else '验证组')\n",
    "\n",
    "    for class_dir in os.listdir(img_dir):\n",
    "        class_path = os.path.join(img_dir, class_dir)\n",
    "        if not os.path.isdir(class_path):\n",
    "            continue\n",
    "\n",
    "        for barcode in os.listdir(class_path):\n",
    "            barcode_path = os.path.join(class_path, barcode)\n",
    "            wdf_path = os.path.join(barcode_path, 'WDF.png')\n",
    "\n",
    "            if os.path.exists(wdf_path):\n",
    "                image = Image.open(wdf_path).convert('RGB')\n",
    "                image_tensor = transform_img(image) \n",
    "                img_data[barcode] = {\n",
    "                    'image': image_tensor,\n",
    "                    'label': int(class_dir) if int(class_dir) != 7 else 6\n",
    "                }\n",
    "\n",
    "    \n",
    "    torch.save(img_data, os.path.join(save_dir, f'{mode}_images.pt'))"
   ]
  },
  {
   "cell_type": "code",
   "execution_count": 4,
   "metadata": {
    "pycharm": {
     "name": "#%%\n"
    }
   },
   "outputs": [],
   "source": [
    "def save_tabular(mode, opt_dict, save_dir):\n",
    "    df = pd.read_csv(opt_dict['dataset_config']['dataset_tabular'])\n",
    "    df = df[df['train_val'] == ('j' if mode == 'train' else 'y')]\n",
    "    \n",
    "    cols_to_drop = ['train_val']\n",
    "    if 'Unnamed: 0' in df.columns:\n",
    "        cols_to_drop.append('Unnamed: 0')\n",
    "    df = df.drop(columns=cols_to_drop, errors='ignore')\n",
    "\n",
    "    tab_data = {}\n",
    "    for _, row in df.iterrows():\n",
    "        try:\n",
    "            # import ipdb;ipdb.set_trace();\n",
    "            target = row['target']\n",
    "            row = row.drop('target')\n",
    "            barcode = row['barcode']\n",
    "            features = torch.tensor(row.drop('barcode').values.astype(np.float32)) \n",
    "            label = torch.tensor(target, dtype=torch.long)\n",
    "            tab_data[barcode] = {'features': features, 'label': label}\n",
    "        except Exception as e:\n",
    "            print(f\"处理条码{barcode}时出错: {str(e)}\")\n",
    "            continue\n",
    "\n",
    "    torch.save(tab_data, os.path.join(save_dir, f'{mode}_tabular.pt'))\n",
    "    print(f\"{mode}表格数据保存成功，样本数: {len(tab_data)}\")"
   ]
  },
  {
   "cell_type": "code",
   "execution_count": 5,
   "metadata": {
    "pycharm": {
     "name": "#%%\n"
    }
   },
   "outputs": [],
   "source": [
    "def save_dataset_files(opt_dict, save_dir):\n",
    "    os.makedirs(save_dir, exist_ok=True)\n",
    "\n",
    "    save_images('train', opt_dict, save_dir)\n",
    "    save_images('test', opt_dict, save_dir)\n",
    "    print(\"image finish\")\n",
    "\n",
    "    save_tabular('train', opt_dict, save_dir)\n",
    "    save_tabular('test', opt_dict, save_dir)\n",
    "    print(\"table finish\")"
   ]
  },
  {
   "cell_type": "code",
   "execution_count": 6,
   "metadata": {
    "pycharm": {
     "name": "#%%\n"
    }
   },
   "outputs": [
    {
     "name": "stdout",
     "output_type": "stream",
     "text": [
      "image finish\n",
      "train表格数据保存成功，样本数: 655\n",
      "test表格数据保存成功，样本数: 717\n",
      "table finish\n"
     ]
    }
   ],
   "source": [
    "if __name__ == '__main__':\n",
    "    opt_dict = {\n",
    "        'dataset_config': {\n",
    "            'dataset': '/data/blood_dvm/data/blood/dataset/图像数据/',\n",
    "            'dataset_tabular': '/data/blood_dvm/data/blood/blood_imputation_result/orign/mostfreq_mean.csv',\n",
    "        }\n",
    "    }\n",
    "    save_dir = \"/data/blood_dvm/data/blood/\"\n",
    "    save_dataset_files(opt_dict, save_dir)"
   ]
  },
  {
   "cell_type": "code",
   "execution_count": 7,
   "metadata": {
    "pycharm": {
     "name": "#%%\n"
    }
   },
   "outputs": [],
   "source": [
    "train_img = torch.load(\"/data/blood_dvm/data/blood/train_tabular.pt\")"
   ]
  },
  {
   "cell_type": "code",
   "execution_count": 8,
   "metadata": {
    "pycharm": {
     "name": "#%%\n"
    }
   },
   "outputs": [
    {
     "data": {
      "text/plain": [
       "tensor([ 0.0000,  1.0000,  0.0000,  0.0000,  1.0000,  1.0000,  0.0000,  0.0000,\n",
       "         1.0000,  0.0000,  0.0000,  0.0000,  0.0000,  0.0000,  1.0000,  2.0000,\n",
       "         1.0000,  1.0000,  0.0000,  5.6413,  0.2296, -0.1397, -0.3466, -0.9947,\n",
       "        -0.7427, -1.5324,  0.7217,  0.9054,  1.5941,  1.2783,  1.2911,  1.1036,\n",
       "         0.8196,  0.3292,  0.4868, -0.8531, -0.3064, -0.0658, -0.8670, -0.2937,\n",
       "        -0.0788])"
      ]
     },
     "execution_count": 8,
     "metadata": {},
     "output_type": "execute_result"
    }
   ],
   "source": [
    "train_img['11815997300']['features']"
   ]
  },
  {
   "cell_type": "code",
   "execution_count": null,
   "metadata": {
    "pycharm": {
     "name": "#%%\n"
    }
   },
   "outputs": [],
   "source": []
  },
  {
   "cell_type": "markdown",
   "metadata": {
    "pycharm": {
     "name": "#%% md\n"
    }
   },
   "source": [
    "dvm"
   ]
  },
  {
   "cell_type": "code",
   "execution_count": 1,
   "metadata": {
    "pycharm": {
     "name": "#%%\n"
    }
   },
   "outputs": [
    {
     "name": "stderr",
     "output_type": "stream",
     "text": [
      "/home/admin1/.conda/envs/torch12gpu/lib/python3.8/site-packages/tqdm/auto.py:21: TqdmWarning: IProgress not found. Please update jupyter and ipywidgets. See https://ipywidgets.readthedocs.io/en/stable/user_install.html\n",
      "  from .autonotebook import tqdm as notebook_tqdm\n"
     ]
    }
   ],
   "source": [
    "import os\n",
    "import torch\n",
    "from PIL import Image\n",
    "import pandas as pd\n",
    "import numpy as np\n",
    "from torchvision import transforms"
   ]
  },
  {
   "cell_type": "code",
   "execution_count": 2,
   "metadata": {
    "pycharm": {
     "name": "#%%\n"
    }
   },
   "outputs": [],
   "source": [
    "transform_img_train = transforms.Compose([\n",
    "    transforms.RandomResizedCrop(size=240, scale=(0.08, 1.0), ratio=(0.75, 1.3333333333333333)),\n",
    "    transforms.RandomHorizontalFlip(p=0.5),\n",
    "    transforms.RandomApply([transforms.ColorJitter(brightness=0.8, contrast=0.8, saturation=0.8)], p=0.8),     \n",
    "    transforms.RandomGrayscale(p=0.2),     \n",
    "    transforms.ToTensor(),\n",
    "])\n",
    "transform_img_test = transforms.Compose([\n",
    "    transforms.Resize([240, 240]),\n",
    "    transforms.ToTensor(),\n",
    "])"
   ]
  },
  {
   "cell_type": "code",
   "execution_count": 3,
   "metadata": {
    "pycharm": {
     "name": "#%%\n"
    }
   },
   "outputs": [],
   "source": [
    "def process_data(mode, save_dir):\n",
    "    df = pd.read_csv(opt_dict['dataset_config']['dataset_tabular'])\n",
    "    train_val_map = {'train': 'j', 'test': 'y', 'val': 'v'}\n",
    "    df = df[df['train_val'] == train_val_map[mode]]\n",
    "    \n",
    "    tab_data = {}\n",
    "    # img_data = {}\n",
    "    need_col = [\n",
    "        'Adv_year', 'Adv_month', 'Reg_year', 'Runned_Miles', 'Price',\n",
    "        'Seat_num', 'Door_num', 'Entry_price', 'Engine_size', 'Color',\n",
    "        'Bodytype', 'Gearbox', 'Fuel_type', 'Wheelbase',\n",
    "        'Length', 'Width', 'Height'\n",
    "    ]\n",
    "    # if mode == 'train':\n",
    "    #     transform_img = transform_img_train\n",
    "    # else:\n",
    "    #     transform_img = transform_img_test\n",
    "    img_base_path = \"/data/blood_dvm/data/dvm/dvm_img/\"\n",
    "\n",
    "    for _, row in df.iterrows():\n",
    "        adv_id = row['Adv_ID']\n",
    "        label = row['Genmodel_ID']\n",
    "        features = torch.tensor(row[need_col].values.astype(np.float32))\n",
    "        label = torch.tensor(label, dtype=torch.long)\n",
    "        image_path = os.path.join(img_base_path, mode, str(label.item()) + '_' + row['Image_name'])\n",
    "        tab_data[adv_id] = {\n",
    "            'image_path': image_path, \n",
    "            'features': features,\n",
    "            'label': label\n",
    "        }\n",
    "        # image = Image.open(image_path).convert('RGB')\n",
    "        # img_tensor = transform_img(image)\n",
    "\n",
    "        # img_data[adv_id] = {\n",
    "        #     'image': img_tensor,\n",
    "        #     'label': label\n",
    "        # }\n",
    "\n",
    "    # torch.save(img_data, os.path.join(save_dir, f'{mode}_image.pt'))\n",
    "    torch.save(tab_data, os.path.join(save_dir, f'{mode}_tabular.pt'))\n",
    "    print(f'Saved {len(tab_data)} {mode} tabular samples')"
   ]
  },
  {
   "cell_type": "code",
   "execution_count": 4,
   "metadata": {
    "pycharm": {
     "name": "#%%\n"
    }
   },
   "outputs": [],
   "source": [
    "def save_dvm_dataset(opt_dict, save_dir):\n",
    "    \n",
    "    os.makedirs(save_dir, exist_ok=True)\n",
    "    for mode in ['train', 'test', 'val']:\n",
    "        process_data(mode, save_dir)"
   ]
  },
  {
   "cell_type": "code",
   "execution_count": 5,
   "metadata": {
    "pycharm": {
     "name": "#%%\n"
    }
   },
   "outputs": [
    {
     "name": "stdout",
     "output_type": "stream",
     "text": [
      "Saved 70565 train tabular samples\n",
      "Saved 88208 test tabular samples\n",
      "Saved 17641 val tabular samples\n"
     ]
    }
   ],
   "source": [
    "if __name__ == '__main__':\n",
    "    opt_dict = {\n",
    "        'dataset_config': {\n",
    "            'dataset': '/data/blood_dvm/data/dvm/dvm_img/',\n",
    "            'dataset_tabular': '/data/blood_dvm/data/dvm/dvm_table/dvm_data/dvm_orig_standard.csv'\n",
    "        }\n",
    "    }\n",
    "    save_dvm_dataset(opt_dict, '/data/blood_dvm/data/dvm/')"
   ]
  },
  {
   "cell_type": "code",
   "execution_count": null,
   "metadata": {
    "pycharm": {
     "name": "#%%\n"
    }
   },
   "outputs": [],
   "source": []
  }
 ],
 "metadata": {
  "kernelspec": {
   "display_name": "Python 3",
   "language": "python",
   "name": "python3"
  },
  "language_info": {
   "codemirror_mode": {
    "name": "ipython",
    "version": 3
   },
   "file_extension": ".py",
   "mimetype": "text/x-python",
   "name": "python",
   "nbconvert_exporter": "python",
   "pygments_lexer": "ipython3",
   "version": "3.8.20"
  }
 },
 "nbformat": 4,
 "nbformat_minor": 2
}